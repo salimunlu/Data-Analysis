{
 "cells": [
  {
   "cell_type": "markdown",
   "id": "c6f52641",
   "metadata": {},
   "source": [
    "# NumPy\n",
    "- NumPy bilimsel hesaplamalar yapmak için pratik bir pakettir. Büyük ve çok boyutlu diziler ve matrisler için destek sunar."
   ]
  },
  {
   "cell_type": "code",
   "execution_count": 1,
   "id": "8d35d339",
   "metadata": {},
   "outputs": [],
   "source": [
    "import numpy as np"
   ]
  },
  {
   "cell_type": "markdown",
   "id": "a921422e",
   "metadata": {},
   "source": [
    "## Array Oluşturmak"
   ]
  },
  {
   "cell_type": "code",
   "execution_count": 5,
   "id": "32832943",
   "metadata": {},
   "outputs": [
    {
     "data": {
      "text/plain": [
       "[1, 2, 3, 4, 5]"
      ]
     },
     "execution_count": 5,
     "metadata": {},
     "output_type": "execute_result"
    }
   ],
   "source": [
    "a = [1, 2, 3, 4, 5]\n",
    "a"
   ]
  },
  {
   "cell_type": "code",
   "execution_count": 6,
   "id": "2bd1ed9c",
   "metadata": {},
   "outputs": [
    {
     "data": {
      "text/plain": [
       "list"
      ]
     },
     "execution_count": 6,
     "metadata": {},
     "output_type": "execute_result"
    }
   ],
   "source": [
    "type(a)"
   ]
  },
  {
   "cell_type": "code",
   "execution_count": 7,
   "id": "a6cefd28",
   "metadata": {},
   "outputs": [
    {
     "data": {
      "text/plain": [
       "[6, 7, 8, 9, 10]"
      ]
     },
     "execution_count": 7,
     "metadata": {},
     "output_type": "execute_result"
    }
   ],
   "source": [
    "b = list(range(6, 11))\n",
    "b"
   ]
  },
  {
   "cell_type": "code",
   "execution_count": 8,
   "id": "a52c40aa",
   "metadata": {},
   "outputs": [
    {
     "data": {
      "text/plain": [
       "[1, 2, 3, 4, 5, 6, 7, 8, 9, 10]"
      ]
     },
     "execution_count": 8,
     "metadata": {},
     "output_type": "execute_result"
    }
   ],
   "source": [
    "a + b   # liste toplama"
   ]
  },
  {
   "cell_type": "markdown",
   "id": "47e9a6fb",
   "metadata": {},
   "source": [
    "### np.array()"
   ]
  },
  {
   "cell_type": "code",
   "execution_count": 9,
   "id": "0d7e422d",
   "metadata": {},
   "outputs": [],
   "source": [
    "a1D = np.array(a)  # list, np.array tipine dönüştürüldü."
   ]
  },
  {
   "cell_type": "code",
   "execution_count": 10,
   "id": "eab9f3c2",
   "metadata": {},
   "outputs": [
    {
     "name": "stdout",
     "output_type": "stream",
     "text": [
      "[1 2 3 4 5]\n"
     ]
    }
   ],
   "source": [
    "print(a1D)"
   ]
  },
  {
   "cell_type": "code",
   "execution_count": 11,
   "id": "39907a07",
   "metadata": {},
   "outputs": [
    {
     "data": {
      "text/plain": [
       "numpy.ndarray"
      ]
     },
     "execution_count": 11,
     "metadata": {},
     "output_type": "execute_result"
    }
   ],
   "source": [
    "type(a1D)"
   ]
  },
  {
   "cell_type": "code",
   "execution_count": 12,
   "id": "630dcb05",
   "metadata": {},
   "outputs": [],
   "source": [
    "b1D = np.array(b)"
   ]
  },
  {
   "cell_type": "code",
   "execution_count": 13,
   "id": "0b905581",
   "metadata": {},
   "outputs": [
    {
     "name": "stdout",
     "output_type": "stream",
     "text": [
      "[ 6  7  8  9 10]\n"
     ]
    }
   ],
   "source": [
    "print(b1D)"
   ]
  },
  {
   "cell_type": "code",
   "execution_count": 14,
   "id": "ea0ec49b",
   "metadata": {},
   "outputs": [
    {
     "data": {
      "text/plain": [
       "array([ 7,  9, 11, 13, 15])"
      ]
     },
     "execution_count": 14,
     "metadata": {},
     "output_type": "execute_result"
    }
   ],
   "source": [
    "a1D + b1D"
   ]
  },
  {
   "cell_type": "code",
   "execution_count": 15,
   "id": "8e3df875",
   "metadata": {},
   "outputs": [
    {
     "data": {
      "text/plain": [
       "array([-5, -5, -5, -5, -5])"
      ]
     },
     "execution_count": 15,
     "metadata": {},
     "output_type": "execute_result"
    }
   ],
   "source": [
    "a1D - b1D"
   ]
  },
  {
   "cell_type": "code",
   "execution_count": 16,
   "id": "1c60b1a0",
   "metadata": {},
   "outputs": [
    {
     "data": {
      "text/plain": [
       "array([ 6, 14, 24, 36, 50])"
      ]
     },
     "execution_count": 16,
     "metadata": {},
     "output_type": "execute_result"
    }
   ],
   "source": [
    "a1D * b1D"
   ]
  },
  {
   "cell_type": "code",
   "execution_count": 17,
   "id": "2d65c842",
   "metadata": {},
   "outputs": [
    {
     "data": {
      "text/plain": [
       "array([0.16666667, 0.28571429, 0.375     , 0.44444444, 0.5       ])"
      ]
     },
     "execution_count": 17,
     "metadata": {},
     "output_type": "execute_result"
    }
   ],
   "source": [
    "a1D / b1D"
   ]
  },
  {
   "cell_type": "code",
   "execution_count": 18,
   "id": "63cc9002",
   "metadata": {},
   "outputs": [
    {
     "data": {
      "text/plain": [
       "array([      1,     128,    6561,  262144, 9765625])"
      ]
     },
     "execution_count": 18,
     "metadata": {},
     "output_type": "execute_result"
    }
   ],
   "source": [
    "a1D ** b1D"
   ]
  },
  {
   "cell_type": "code",
   "execution_count": 19,
   "id": "0228668b",
   "metadata": {},
   "outputs": [
    {
     "data": {
      "text/plain": [
       "([1, 2, 3, 4, 5], [6, 7, 8, 9, 10])"
      ]
     },
     "execution_count": 19,
     "metadata": {},
     "output_type": "execute_result"
    }
   ],
   "source": [
    "a, b"
   ]
  },
  {
   "cell_type": "code",
   "execution_count": 20,
   "id": "fb2ec0f3",
   "metadata": {},
   "outputs": [
    {
     "data": {
      "text/plain": [
       "[[1, 2, 3, 4, 5], [6, 7, 8, 9, 10]]"
      ]
     },
     "execution_count": 20,
     "metadata": {},
     "output_type": "execute_result"
    }
   ],
   "source": [
    "[a, b]"
   ]
  },
  {
   "cell_type": "code",
   "execution_count": 21,
   "id": "805c68d0",
   "metadata": {},
   "outputs": [],
   "source": [
    "a2D = np.array([a, b])"
   ]
  },
  {
   "cell_type": "code",
   "execution_count": 22,
   "id": "ab7fe677",
   "metadata": {},
   "outputs": [
    {
     "name": "stdout",
     "output_type": "stream",
     "text": [
      "[[ 1  2  3  4  5]\n",
      " [ 6  7  8  9 10]]\n"
     ]
    }
   ],
   "source": [
    "print(a2D)"
   ]
  },
  {
   "cell_type": "code",
   "execution_count": 24,
   "id": "83fe00a5",
   "metadata": {},
   "outputs": [
    {
     "data": {
      "text/plain": [
       "array([[  1,   4,   9,  16,  25],\n",
       "       [ 36,  49,  64,  81, 100]])"
      ]
     },
     "execution_count": 24,
     "metadata": {},
     "output_type": "execute_result"
    }
   ],
   "source": [
    "a2D * a2D"
   ]
  },
  {
   "cell_type": "markdown",
   "id": "8713f109",
   "metadata": {},
   "source": [
    "## 1D Array Oluşturma Fonksiyonları"
   ]
  },
  {
   "cell_type": "markdown",
   "id": "43ac250c",
   "metadata": {},
   "source": [
    "### np.arange()"
   ]
  },
  {
   "cell_type": "code",
   "execution_count": 25,
   "id": "d64b5d1d",
   "metadata": {},
   "outputs": [
    {
     "data": {
      "text/plain": [
       "[0, 1, 2, 3, 4, 5, 6, 7, 8, 9]"
      ]
     },
     "execution_count": 25,
     "metadata": {},
     "output_type": "execute_result"
    }
   ],
   "source": [
    "list(range(10))"
   ]
  },
  {
   "cell_type": "code",
   "execution_count": 27,
   "id": "396e801c",
   "metadata": {},
   "outputs": [
    {
     "data": {
      "text/plain": [
       "array([0, 1, 2, 3, 4, 5, 6, 7, 8, 9])"
      ]
     },
     "execution_count": 27,
     "metadata": {},
     "output_type": "execute_result"
    }
   ],
   "source": [
    "np.arange(10)   # stop"
   ]
  },
  {
   "cell_type": "code",
   "execution_count": 28,
   "id": "0e50d617",
   "metadata": {},
   "outputs": [
    {
     "data": {
      "text/plain": [
       "array([ 0,  1,  2,  3,  4,  5,  6,  7,  8,  9, 10, 11, 12, 13, 14, 15, 16,\n",
       "       17, 18, 19])"
      ]
     },
     "execution_count": 28,
     "metadata": {},
     "output_type": "execute_result"
    }
   ],
   "source": [
    "np.arange(20)"
   ]
  },
  {
   "cell_type": "code",
   "execution_count": 29,
   "id": "aac1935e",
   "metadata": {},
   "outputs": [
    {
     "data": {
      "text/plain": [
       "array([5, 6, 7, 8, 9])"
      ]
     },
     "execution_count": 29,
     "metadata": {},
     "output_type": "execute_result"
    }
   ],
   "source": [
    "np.arange(5, 10)  # start: 5 (dahil), stop: 10 (hariç)"
   ]
  },
  {
   "cell_type": "code",
   "execution_count": 30,
   "id": "be9ab766",
   "metadata": {},
   "outputs": [
    {
     "data": {
      "text/plain": [
       "[5, 7, 9]"
      ]
     },
     "execution_count": 30,
     "metadata": {},
     "output_type": "execute_result"
    }
   ],
   "source": [
    "list(range(5, 10, 2))"
   ]
  },
  {
   "cell_type": "code",
   "execution_count": 31,
   "id": "5256bcfb",
   "metadata": {},
   "outputs": [
    {
     "data": {
      "text/plain": [
       "array([5, 7, 9])"
      ]
     },
     "execution_count": 31,
     "metadata": {},
     "output_type": "execute_result"
    }
   ],
   "source": [
    "np.arange(5, 10, 2)"
   ]
  },
  {
   "cell_type": "markdown",
   "id": "7b63260a",
   "metadata": {},
   "source": [
    "### np.linspace"
   ]
  },
  {
   "cell_type": "code",
   "execution_count": 33,
   "id": "5e5487d8",
   "metadata": {},
   "outputs": [],
   "source": [
    "# help(np.linspace)"
   ]
  },
  {
   "cell_type": "code",
   "execution_count": 34,
   "id": "1658209c",
   "metadata": {},
   "outputs": [
    {
     "data": {
      "text/plain": [
       "array([ 0.,  1.,  2.,  3.,  4.,  5.,  6.,  7.,  8.,  9., 10., 11., 12.,\n",
       "       13., 14., 15., 16., 17., 18., 19., 20., 21., 22., 23., 24., 25.,\n",
       "       26., 27., 28., 29., 30., 31., 32., 33., 34., 35., 36., 37., 38.,\n",
       "       39., 40., 41., 42., 43., 44., 45., 46., 47., 48., 49.])"
      ]
     },
     "execution_count": 34,
     "metadata": {},
     "output_type": "execute_result"
    }
   ],
   "source": [
    "np.linspace(0, 49)   # Docstringi görmek için Shift + Tab\n",
    "                     # Default'u 50 tane sayı üretir. num parametresi ile bu sayı güncellenebilir."
   ]
  },
  {
   "cell_type": "code",
   "execution_count": 35,
   "id": "ba1f0646",
   "metadata": {},
   "outputs": [
    {
     "data": {
      "text/plain": [
       "array([ 5., 10., 15., 20., 25., 30., 35., 40., 45., 50.])"
      ]
     },
     "execution_count": 35,
     "metadata": {},
     "output_type": "execute_result"
    }
   ],
   "source": [
    "np.linspace(5, 50, num=10)"
   ]
  },
  {
   "cell_type": "code",
   "execution_count": 39,
   "id": "cb5ea505",
   "metadata": {},
   "outputs": [
    {
     "data": {
      "text/plain": [
       "array([ 5.  ,  7.25,  9.5 , 11.75, 14.  , 16.25, 18.5 , 20.75, 23.  ,\n",
       "       25.25, 27.5 , 29.75, 32.  , 34.25, 36.5 , 38.75, 41.  , 43.25,\n",
       "       45.5 , 47.75, 50.  ])"
      ]
     },
     "execution_count": 39,
     "metadata": {},
     "output_type": "execute_result"
    }
   ],
   "source": [
    "np.linspace(5, 50, num=21)"
   ]
  },
  {
   "cell_type": "markdown",
   "id": "b1252e7d",
   "metadata": {},
   "source": [
    "## 2D Array Oluşturma Fonksiyonları"
   ]
  },
  {
   "cell_type": "markdown",
   "id": "88847e60",
   "metadata": {},
   "source": [
    "### np.eye"
   ]
  },
  {
   "cell_type": "code",
   "execution_count": 42,
   "id": "a119d924",
   "metadata": {},
   "outputs": [
    {
     "data": {
      "text/plain": [
       "array([[1., 0., 0., 0., 0.],\n",
       "       [0., 1., 0., 0., 0.],\n",
       "       [0., 0., 1., 0., 0.],\n",
       "       [0., 0., 0., 1., 0.],\n",
       "       [0., 0., 0., 0., 1.]])"
      ]
     },
     "execution_count": 42,
     "metadata": {},
     "output_type": "execute_result"
    }
   ],
   "source": [
    "np.eye(5)     # Birim matris (Identity Matrix)"
   ]
  },
  {
   "cell_type": "code",
   "execution_count": 43,
   "id": "2307ca92",
   "metadata": {},
   "outputs": [
    {
     "data": {
      "text/plain": [
       "array([[1, 0, 0, 0, 0, 0],\n",
       "       [0, 1, 0, 0, 0, 0],\n",
       "       [0, 0, 1, 0, 0, 0],\n",
       "       [0, 0, 0, 1, 0, 0],\n",
       "       [0, 0, 0, 0, 1, 0],\n",
       "       [0, 0, 0, 0, 0, 1]])"
      ]
     },
     "execution_count": 43,
     "metadata": {},
     "output_type": "execute_result"
    }
   ],
   "source": [
    "np.eye(6, dtype=int)   # veri tipi integer"
   ]
  },
  {
   "cell_type": "markdown",
   "id": "dffaeac1",
   "metadata": {},
   "source": [
    "### np.zeros"
   ]
  },
  {
   "cell_type": "code",
   "execution_count": 44,
   "id": "588e4160",
   "metadata": {},
   "outputs": [
    {
     "data": {
      "text/plain": [
       "array([0, 0, 0, 0, 0])"
      ]
     },
     "execution_count": 44,
     "metadata": {},
     "output_type": "execute_result"
    }
   ],
   "source": [
    "np.zeros(5, dtype=int)"
   ]
  },
  {
   "cell_type": "code",
   "execution_count": 45,
   "id": "95d652f4",
   "metadata": {},
   "outputs": [
    {
     "data": {
      "text/plain": [
       "array([[0, 0, 0],\n",
       "       [0, 0, 0]])"
      ]
     },
     "execution_count": 45,
     "metadata": {},
     "output_type": "execute_result"
    }
   ],
   "source": [
    "np.zeros((2, 3), dtype=int)"
   ]
  },
  {
   "cell_type": "code",
   "execution_count": 46,
   "id": "d40fe898",
   "metadata": {},
   "outputs": [
    {
     "data": {
      "text/plain": [
       "array([[[0., 0., 0.],\n",
       "        [0., 0., 0.],\n",
       "        [0., 0., 0.]],\n",
       "\n",
       "       [[0., 0., 0.],\n",
       "        [0., 0., 0.],\n",
       "        [0., 0., 0.]]])"
      ]
     },
     "execution_count": 46,
     "metadata": {},
     "output_type": "execute_result"
    }
   ],
   "source": [
    "np.zeros((2, 3, 3))   # 3 boyutlu 0 lardan oluşan numpy array"
   ]
  },
  {
   "cell_type": "code",
   "execution_count": 50,
   "id": "5ce65fca",
   "metadata": {},
   "outputs": [
    {
     "data": {
      "text/plain": [
       "array([[1, 1, 1],\n",
       "       [1, 1, 1]])"
      ]
     },
     "execution_count": 50,
     "metadata": {},
     "output_type": "execute_result"
    }
   ],
   "source": [
    "# 2 satır 3 sütun 1'lerden oluşan numpy array oluşturun\n",
    "np.zeros(shape=(2,3), dtype=int) + 1"
   ]
  },
  {
   "cell_type": "markdown",
   "id": "fb027906",
   "metadata": {},
   "source": [
    "## Numpy Array'leri Çoğaltma, Birleştirme ve Değiştirme"
   ]
  },
  {
   "cell_type": "code",
   "execution_count": 51,
   "id": "66825bea",
   "metadata": {},
   "outputs": [
    {
     "name": "stdout",
     "output_type": "stream",
     "text": [
      "[0 1 2 3 4 5 6 7 8 9]\n"
     ]
    }
   ],
   "source": [
    "a = np.arange(10)\n",
    "print(a)"
   ]
  },
  {
   "cell_type": "code",
   "execution_count": 52,
   "id": "c50bce7d",
   "metadata": {},
   "outputs": [],
   "source": [
    "b = a"
   ]
  },
  {
   "cell_type": "code",
   "execution_count": 54,
   "id": "7bf1f85a",
   "metadata": {},
   "outputs": [
    {
     "name": "stdout",
     "output_type": "stream",
     "text": [
      "[0 1 2 3 4 5 6 7 8 9]\n"
     ]
    }
   ],
   "source": [
    "print(b)"
   ]
  },
  {
   "cell_type": "code",
   "execution_count": 55,
   "id": "1c689321",
   "metadata": {},
   "outputs": [],
   "source": [
    "b += 1"
   ]
  },
  {
   "cell_type": "code",
   "execution_count": 56,
   "id": "369f01e8",
   "metadata": {},
   "outputs": [
    {
     "name": "stdout",
     "output_type": "stream",
     "text": [
      "[ 1  2  3  4  5  6  7  8  9 10]\n"
     ]
    }
   ],
   "source": [
    "print(b)"
   ]
  },
  {
   "cell_type": "code",
   "execution_count": 57,
   "id": "60e712df",
   "metadata": {},
   "outputs": [
    {
     "name": "stdout",
     "output_type": "stream",
     "text": [
      "[ 1  2  3  4  5  6  7  8  9 10]\n"
     ]
    }
   ],
   "source": [
    "print(a)"
   ]
  },
  {
   "cell_type": "code",
   "execution_count": 58,
   "id": "8f8844d5",
   "metadata": {},
   "outputs": [
    {
     "data": {
      "text/plain": [
       "2976226779632"
      ]
     },
     "execution_count": 58,
     "metadata": {},
     "output_type": "execute_result"
    }
   ],
   "source": [
    "id(a)"
   ]
  },
  {
   "cell_type": "code",
   "execution_count": 59,
   "id": "7d55194b",
   "metadata": {},
   "outputs": [
    {
     "data": {
      "text/plain": [
       "2976226779632"
      ]
     },
     "execution_count": 59,
     "metadata": {},
     "output_type": "execute_result"
    }
   ],
   "source": [
    "id(b)"
   ]
  },
  {
   "cell_type": "code",
   "execution_count": 60,
   "id": "e86c9d1b",
   "metadata": {},
   "outputs": [],
   "source": [
    "c = a.copy()"
   ]
  },
  {
   "cell_type": "code",
   "execution_count": 61,
   "id": "8f16b48c",
   "metadata": {},
   "outputs": [
    {
     "data": {
      "text/plain": [
       "2976226780400"
      ]
     },
     "execution_count": 61,
     "metadata": {},
     "output_type": "execute_result"
    }
   ],
   "source": [
    "id(c)"
   ]
  },
  {
   "cell_type": "code",
   "execution_count": 62,
   "id": "e43e8819",
   "metadata": {},
   "outputs": [],
   "source": [
    "c += 1"
   ]
  },
  {
   "cell_type": "code",
   "execution_count": 63,
   "id": "46d08ea7",
   "metadata": {},
   "outputs": [
    {
     "name": "stdout",
     "output_type": "stream",
     "text": [
      "[ 2  3  4  5  6  7  8  9 10 11]\n"
     ]
    }
   ],
   "source": [
    "print(c)"
   ]
  },
  {
   "cell_type": "code",
   "execution_count": 64,
   "id": "a422c5d8",
   "metadata": {},
   "outputs": [
    {
     "name": "stdout",
     "output_type": "stream",
     "text": [
      "[ 1  2  3  4  5  6  7  8  9 10]\n"
     ]
    }
   ],
   "source": [
    "print(a)"
   ]
  },
  {
   "cell_type": "markdown",
   "id": "d2f53fa0",
   "metadata": {},
   "source": [
    "### np.vstack, np.hstack"
   ]
  },
  {
   "cell_type": "code",
   "execution_count": 65,
   "id": "14237c76",
   "metadata": {},
   "outputs": [],
   "source": [
    "a = np.array(range(1,5))\n",
    "b = np.array(range(5,9))\n",
    "c = np.array(range(9,13))\n",
    "d = np.array(range(13,17))"
   ]
  },
  {
   "cell_type": "code",
   "execution_count": 66,
   "id": "2010b820",
   "metadata": {},
   "outputs": [
    {
     "name": "stdout",
     "output_type": "stream",
     "text": [
      "[1 2 3 4]\n",
      "[5 6 7 8]\n",
      "[ 9 10 11 12]\n",
      "[13 14 15 16]\n"
     ]
    }
   ],
   "source": [
    "print(a)\n",
    "print(b)\n",
    "print(c)\n",
    "print(d)"
   ]
  },
  {
   "cell_type": "code",
   "execution_count": 67,
   "id": "c663ec20",
   "metadata": {},
   "outputs": [
    {
     "data": {
      "text/plain": [
       "array([[ 1,  2,  3,  4],\n",
       "       [ 5,  6,  7,  8],\n",
       "       [ 9, 10, 11, 12],\n",
       "       [13, 14, 15, 16]])"
      ]
     },
     "execution_count": 67,
     "metadata": {},
     "output_type": "execute_result"
    }
   ],
   "source": [
    "# Dikey olarak array birleştirme\n",
    "np.vstack((a, b, c, d))"
   ]
  },
  {
   "cell_type": "code",
   "execution_count": 68,
   "id": "1c43878b",
   "metadata": {},
   "outputs": [
    {
     "data": {
      "text/plain": [
       "array([ 1,  2,  3,  4,  5,  6,  7,  8,  9, 10, 11, 12, 13, 14, 15, 16])"
      ]
     },
     "execution_count": 68,
     "metadata": {},
     "output_type": "execute_result"
    }
   ],
   "source": [
    "# Yatay olarak array birleştirme\n",
    "np.hstack((a, b, c, d))"
   ]
  },
  {
   "cell_type": "markdown",
   "id": "f5e803e4",
   "metadata": {},
   "source": [
    "### np.diag"
   ]
  },
  {
   "cell_type": "code",
   "execution_count": 69,
   "id": "f009f5c5",
   "metadata": {},
   "outputs": [
    {
     "data": {
      "text/plain": [
       "array([[1, 0, 0, 0, 0],\n",
       "       [0, 2, 0, 0, 0],\n",
       "       [0, 0, 5, 0, 0],\n",
       "       [0, 0, 0, 7, 0],\n",
       "       [0, 0, 0, 0, 9]])"
      ]
     },
     "execution_count": 69,
     "metadata": {},
     "output_type": "execute_result"
    }
   ],
   "source": [
    "np.diag((1, 2, 5, 7, 9))"
   ]
  },
  {
   "cell_type": "markdown",
   "id": "5fcb5a1f",
   "metadata": {},
   "source": [
    "### np.ones"
   ]
  },
  {
   "cell_type": "code",
   "execution_count": 73,
   "id": "81439899",
   "metadata": {},
   "outputs": [
    {
     "data": {
      "text/plain": [
       "array([[1, 1, 1, 1, 1, 1, 1],\n",
       "       [1, 1, 1, 1, 1, 1, 1],\n",
       "       [1, 1, 1, 1, 1, 1, 1],\n",
       "       [1, 1, 1, 1, 1, 1, 1],\n",
       "       [1, 1, 1, 1, 1, 1, 1]])"
      ]
     },
     "execution_count": 73,
     "metadata": {},
     "output_type": "execute_result"
    }
   ],
   "source": [
    "np.ones((5, 7), dtype=int)"
   ]
  },
  {
   "cell_type": "markdown",
   "id": "8adf765e",
   "metadata": {},
   "source": [
    "### np.block"
   ]
  },
  {
   "cell_type": "markdown",
   "id": "df2b919e",
   "metadata": {},
   "source": [
    "## Rastgele (Random) NumPy Array'ler Oluşturmak"
   ]
  },
  {
   "cell_type": "markdown",
   "id": "867dfb5f",
   "metadata": {},
   "source": [
    "### rand"
   ]
  },
  {
   "cell_type": "code",
   "execution_count": 78,
   "id": "e8488a76",
   "metadata": {},
   "outputs": [
    {
     "data": {
      "text/plain": [
       "0.21791443103771613"
      ]
     },
     "execution_count": 78,
     "metadata": {},
     "output_type": "execute_result"
    }
   ],
   "source": [
    "np.random.rand()      # [0, 1)"
   ]
  },
  {
   "cell_type": "code",
   "execution_count": 79,
   "id": "baa419d9",
   "metadata": {},
   "outputs": [
    {
     "data": {
      "text/plain": [
       "array([0.17772023, 0.19006137, 0.74461698, 0.45532692, 0.07687714])"
      ]
     },
     "execution_count": 79,
     "metadata": {},
     "output_type": "execute_result"
    }
   ],
   "source": [
    "np.random.rand(5)     # 1D Array"
   ]
  },
  {
   "cell_type": "code",
   "execution_count": 80,
   "id": "8da4fd70",
   "metadata": {},
   "outputs": [
    {
     "data": {
      "text/plain": [
       "array([[0.4924436 , 0.5374522 , 0.93998109, 0.65992458],\n",
       "       [0.61028083, 0.28394755, 0.46198638, 0.111519  ],\n",
       "       [0.39054665, 0.87807126, 0.91460417, 0.43271033],\n",
       "       [0.00125411, 0.53798622, 0.3628234 , 0.44579061],\n",
       "       [0.27667469, 0.65918469, 0.38593882, 0.10727697]])"
      ]
     },
     "execution_count": 80,
     "metadata": {},
     "output_type": "execute_result"
    }
   ],
   "source": [
    "np.random.rand(5, 4)  # 2D Array"
   ]
  },
  {
   "cell_type": "code",
   "execution_count": 82,
   "id": "abe7e3eb",
   "metadata": {},
   "outputs": [
    {
     "data": {
      "text/plain": [
       "array([[3.24614268, 1.16475525, 4.41223037, 4.58268546],\n",
       "       [2.57691623, 8.64208268, 0.47132012, 3.12710531],\n",
       "       [4.20434582, 0.5629838 , 7.2284602 , 6.70743678]])"
      ]
     },
     "execution_count": 82,
     "metadata": {},
     "output_type": "execute_result"
    }
   ],
   "source": [
    "# 3 satır 4 sütun, 0-10 arasında rastgele oluşan bir array oluşturun.\n",
    "np.random.rand(3, 4) * 10"
   ]
  },
  {
   "cell_type": "markdown",
   "id": "210747ee",
   "metadata": {},
   "source": [
    "### randn"
   ]
  },
  {
   "cell_type": "code",
   "execution_count": 88,
   "id": "ae5414ec",
   "metadata": {},
   "outputs": [
    {
     "data": {
      "text/plain": [
       "-1.1200970920889861"
      ]
     },
     "execution_count": 88,
     "metadata": {},
     "output_type": "execute_result"
    }
   ],
   "source": [
    "np.random.randn()    # standart normal dağılım, ort:0, std=1"
   ]
  },
  {
   "cell_type": "code",
   "execution_count": 89,
   "id": "c0e2d6c2",
   "metadata": {},
   "outputs": [
    {
     "data": {
      "text/plain": [
       "array([ 0.50542672,  0.69369313,  0.77481742, -0.07777601, -0.80783144,\n",
       "       -1.43416401, -0.34153953,  1.80509544,  1.46665842,  1.4572494 ])"
      ]
     },
     "execution_count": 89,
     "metadata": {},
     "output_type": "execute_result"
    }
   ],
   "source": [
    "np.random.randn(10)"
   ]
  },
  {
   "cell_type": "code",
   "execution_count": 90,
   "id": "2931050a",
   "metadata": {},
   "outputs": [],
   "source": [
    "big_arr = np.random.randn(100000)"
   ]
  },
  {
   "cell_type": "code",
   "execution_count": 91,
   "id": "8df127c7",
   "metadata": {},
   "outputs": [
    {
     "data": {
      "text/plain": [
       "numpy.ndarray"
      ]
     },
     "execution_count": 91,
     "metadata": {},
     "output_type": "execute_result"
    }
   ],
   "source": [
    "type(big_arr)"
   ]
  },
  {
   "cell_type": "code",
   "execution_count": 93,
   "id": "76c12668",
   "metadata": {},
   "outputs": [
    {
     "data": {
      "text/plain": [
       "100000"
      ]
     },
     "execution_count": 93,
     "metadata": {},
     "output_type": "execute_result"
    }
   ],
   "source": [
    "len(big_arr)"
   ]
  },
  {
   "cell_type": "code",
   "execution_count": 94,
   "id": "6bdeadac",
   "metadata": {},
   "outputs": [
    {
     "data": {
      "text/plain": [
       "-0.00391193465032912"
      ]
     },
     "execution_count": 94,
     "metadata": {},
     "output_type": "execute_result"
    }
   ],
   "source": [
    "big_arr.mean()   # büyük array'in ortalaması"
   ]
  },
  {
   "cell_type": "code",
   "execution_count": 95,
   "id": "777071f1",
   "metadata": {},
   "outputs": [
    {
     "data": {
      "text/plain": [
       "1.0032937752757334"
      ]
     },
     "execution_count": 95,
     "metadata": {},
     "output_type": "execute_result"
    }
   ],
   "source": [
    "big_arr.std()   # büyük array'in standart sapması"
   ]
  },
  {
   "cell_type": "code",
   "execution_count": 96,
   "id": "6e392f66",
   "metadata": {},
   "outputs": [
    {
     "data": {
      "text/plain": [
       "4.943349031543137"
      ]
     },
     "execution_count": 96,
     "metadata": {},
     "output_type": "execute_result"
    }
   ],
   "source": [
    "big_arr.max()   # büyük array'in maksimumu"
   ]
  },
  {
   "cell_type": "code",
   "execution_count": 97,
   "id": "757b1f44",
   "metadata": {},
   "outputs": [
    {
     "data": {
      "text/plain": [
       "-4.739418410944709"
      ]
     },
     "execution_count": 97,
     "metadata": {},
     "output_type": "execute_result"
    }
   ],
   "source": [
    "big_arr.min()   # büyük array'in minimumu"
   ]
  },
  {
   "cell_type": "code",
   "execution_count": 98,
   "id": "42943cb6",
   "metadata": {},
   "outputs": [
    {
     "data": {
      "text/plain": [
       "96881"
      ]
     },
     "execution_count": 98,
     "metadata": {},
     "output_type": "execute_result"
    }
   ],
   "source": [
    "big_arr.argmax() # maksimum değerin indeksi"
   ]
  },
  {
   "cell_type": "code",
   "execution_count": 99,
   "id": "39014d57",
   "metadata": {},
   "outputs": [
    {
     "data": {
      "text/plain": [
       "4.943349031543137"
      ]
     },
     "execution_count": 99,
     "metadata": {},
     "output_type": "execute_result"
    }
   ],
   "source": [
    "big_arr[96881]"
   ]
  },
  {
   "cell_type": "code",
   "execution_count": 100,
   "id": "afa9c0a6",
   "metadata": {},
   "outputs": [
    {
     "data": {
      "text/plain": [
       "12232"
      ]
     },
     "execution_count": 100,
     "metadata": {},
     "output_type": "execute_result"
    }
   ],
   "source": [
    "big_arr.argmin() # minimum değerin indeksi"
   ]
  },
  {
   "cell_type": "code",
   "execution_count": 101,
   "id": "8ccdbbbe",
   "metadata": {},
   "outputs": [
    {
     "data": {
      "text/plain": [
       "-4.739418410944709"
      ]
     },
     "execution_count": 101,
     "metadata": {},
     "output_type": "execute_result"
    }
   ],
   "source": [
    "big_arr[12232]"
   ]
  },
  {
   "cell_type": "markdown",
   "id": "ebc5c87e",
   "metadata": {},
   "source": [
    "### seed"
   ]
  },
  {
   "cell_type": "code",
   "execution_count": 105,
   "id": "aba8150c",
   "metadata": {},
   "outputs": [
    {
     "data": {
      "text/plain": [
       "-0.9407914639148472"
      ]
     },
     "execution_count": 105,
     "metadata": {},
     "output_type": "execute_result"
    }
   ],
   "source": [
    "np.random.seed(2222)    # Reproducability (Yeni Üretilebilirlik)\n",
    "np.random.randn()"
   ]
  },
  {
   "cell_type": "markdown",
   "id": "12d533f5",
   "metadata": {},
   "source": [
    "## Array'leri Yeniden Şekillendirmek (Reshaping Arrays)"
   ]
  },
  {
   "cell_type": "code",
   "execution_count": 108,
   "id": "ecde83d4",
   "metadata": {},
   "outputs": [
    {
     "name": "stdout",
     "output_type": "stream",
     "text": [
      "[20 21 22 23 24 25 26 27 28 29 30 31 32 33 34 35]\n"
     ]
    }
   ],
   "source": [
    "arr = np.arange(20, 36)\n",
    "print(arr)  # 16 elemanı olan tek boyutlu bir dizi"
   ]
  },
  {
   "cell_type": "code",
   "execution_count": 111,
   "id": "8b9e52da",
   "metadata": {},
   "outputs": [
    {
     "data": {
      "text/plain": [
       "(16,)"
      ]
     },
     "execution_count": 111,
     "metadata": {},
     "output_type": "execute_result"
    }
   ],
   "source": [
    "arr.shape"
   ]
  },
  {
   "cell_type": "code",
   "execution_count": 113,
   "id": "c6ff9ee5",
   "metadata": {},
   "outputs": [
    {
     "name": "stdout",
     "output_type": "stream",
     "text": [
      "[[20 21 22 23]\n",
      " [24 25 26 27]\n",
      " [28 29 30 31]\n",
      " [32 33 34 35]]\n"
     ]
    }
   ],
   "source": [
    "arr = arr.reshape(4, 4)   # 16 elemanı olan 4x4'lük 2 boyutlu bir dizi\n",
    "print(arr)"
   ]
  },
  {
   "cell_type": "code",
   "execution_count": 114,
   "id": "6e5f2255",
   "metadata": {},
   "outputs": [
    {
     "data": {
      "text/plain": [
       "(4, 4)"
      ]
     },
     "execution_count": 114,
     "metadata": {},
     "output_type": "execute_result"
    }
   ],
   "source": [
    "arr.shape"
   ]
  },
  {
   "cell_type": "code",
   "execution_count": 116,
   "id": "aec78d09",
   "metadata": {},
   "outputs": [
    {
     "name": "stdout",
     "output_type": "stream",
     "text": [
      "[[20 21 22 23 24 25 26 27]\n",
      " [28 29 30 31 32 33 34 35]]\n"
     ]
    }
   ],
   "source": [
    "arr = arr.reshape(2, 8)\n",
    "print(arr)"
   ]
  },
  {
   "cell_type": "code",
   "execution_count": 117,
   "id": "7764839e",
   "metadata": {},
   "outputs": [
    {
     "data": {
      "text/plain": [
       "(2, 8)"
      ]
     },
     "execution_count": 117,
     "metadata": {},
     "output_type": "execute_result"
    }
   ],
   "source": [
    "arr.shape"
   ]
  },
  {
   "cell_type": "code",
   "execution_count": 121,
   "id": "ae918a99",
   "metadata": {},
   "outputs": [
    {
     "name": "stdout",
     "output_type": "stream",
     "text": [
      "[[20]\n",
      " [21]\n",
      " [22]\n",
      " [23]\n",
      " [24]\n",
      " [25]\n",
      " [26]\n",
      " [27]\n",
      " [28]\n",
      " [29]\n",
      " [30]\n",
      " [31]\n",
      " [32]\n",
      " [33]\n",
      " [34]\n",
      " [35]]\n"
     ]
    }
   ],
   "source": [
    "arr = arr.reshape(16,1)\n",
    "print(arr)"
   ]
  },
  {
   "cell_type": "code",
   "execution_count": 122,
   "id": "7c3ccdcc",
   "metadata": {},
   "outputs": [
    {
     "data": {
      "text/plain": [
       "(16, 1)"
      ]
     },
     "execution_count": 122,
     "metadata": {},
     "output_type": "execute_result"
    }
   ],
   "source": [
    "arr.shape"
   ]
  },
  {
   "cell_type": "code",
   "execution_count": 123,
   "id": "b71357da",
   "metadata": {},
   "outputs": [
    {
     "name": "stdout",
     "output_type": "stream",
     "text": [
      "[[20 21 22 23 24 25 26 27 28 29 30 31 32 33 34 35]]\n"
     ]
    }
   ],
   "source": [
    "arr = arr.reshape(1,16)\n",
    "print(arr)"
   ]
  },
  {
   "cell_type": "code",
   "execution_count": 124,
   "id": "cae97492",
   "metadata": {},
   "outputs": [
    {
     "data": {
      "text/plain": [
       "(1, 16)"
      ]
     },
     "execution_count": 124,
     "metadata": {},
     "output_type": "execute_result"
    }
   ],
   "source": [
    "arr.shape"
   ]
  },
  {
   "cell_type": "code",
   "execution_count": 125,
   "id": "02502cec",
   "metadata": {},
   "outputs": [
    {
     "name": "stdout",
     "output_type": "stream",
     "text": [
      "[[[20 21 22 23]\n",
      "  [24 25 26 27]]\n",
      "\n",
      " [[28 29 30 31]\n",
      "  [32 33 34 35]]]\n"
     ]
    }
   ],
   "source": [
    "arr = arr.reshape(2, 2, 4)\n",
    "print(arr)"
   ]
  },
  {
   "cell_type": "code",
   "execution_count": 126,
   "id": "6f31ae06",
   "metadata": {},
   "outputs": [
    {
     "name": "stdout",
     "output_type": "stream",
     "text": [
      "[[[[20 21]\n",
      "   [22 23]]\n",
      "\n",
      "  [[24 25]\n",
      "   [26 27]]]\n",
      "\n",
      "\n",
      " [[[28 29]\n",
      "   [30 31]]\n",
      "\n",
      "  [[32 33]\n",
      "   [34 35]]]]\n"
     ]
    }
   ],
   "source": [
    "arr = arr.reshape(2, 2, 2, 2)\n",
    "print(arr)"
   ]
  },
  {
   "cell_type": "markdown",
   "id": "b53399c2",
   "metadata": {},
   "source": [
    "## Indeksleme ve Dilimleme (Indexing and Slicing)"
   ]
  },
  {
   "cell_type": "markdown",
   "id": "7caa063f",
   "metadata": {},
   "source": [
    "### Indexing"
   ]
  },
  {
   "cell_type": "code",
   "execution_count": 129,
   "id": "48be9b94",
   "metadata": {},
   "outputs": [
    {
     "name": "stdout",
     "output_type": "stream",
     "text": [
      "[ 0  2  4  6  8 10 12 14 16 18 20 22 24 26 28 30 32 34]\n"
     ]
    }
   ],
   "source": [
    "arr = np.arange(0, 35, 2)\n",
    "print(arr)"
   ]
  },
  {
   "cell_type": "code",
   "execution_count": 130,
   "id": "803b6182",
   "metadata": {},
   "outputs": [
    {
     "data": {
      "text/plain": [
       "12"
      ]
     },
     "execution_count": 130,
     "metadata": {},
     "output_type": "execute_result"
    }
   ],
   "source": [
    "arr[6]"
   ]
  },
  {
   "cell_type": "code",
   "execution_count": 131,
   "id": "2651e559",
   "metadata": {},
   "outputs": [
    {
     "data": {
      "text/plain": [
       "18"
      ]
     },
     "execution_count": 131,
     "metadata": {},
     "output_type": "execute_result"
    }
   ],
   "source": [
    "len(arr)"
   ]
  },
  {
   "cell_type": "code",
   "execution_count": 132,
   "id": "ad5bd4db",
   "metadata": {},
   "outputs": [
    {
     "name": "stdout",
     "output_type": "stream",
     "text": [
      "[[[ 0  2]\n",
      "  [ 4  6]\n",
      "  [ 8 10]]\n",
      "\n",
      " [[12 14]\n",
      "  [16 18]\n",
      "  [20 22]]\n",
      "\n",
      " [[24 26]\n",
      "  [28 30]\n",
      "  [32 34]]]\n"
     ]
    }
   ],
   "source": [
    "arr = arr.reshape(3, 3, 2)\n",
    "print(arr)"
   ]
  },
  {
   "cell_type": "code",
   "execution_count": 133,
   "id": "db3148f0",
   "metadata": {},
   "outputs": [
    {
     "data": {
      "text/plain": [
       "array([[12, 14],\n",
       "       [16, 18],\n",
       "       [20, 22]])"
      ]
     },
     "execution_count": 133,
     "metadata": {},
     "output_type": "execute_result"
    }
   ],
   "source": [
    "arr[1]"
   ]
  },
  {
   "cell_type": "code",
   "execution_count": 134,
   "id": "f81a4f65",
   "metadata": {},
   "outputs": [
    {
     "data": {
      "text/plain": [
       "array([16, 18])"
      ]
     },
     "execution_count": 134,
     "metadata": {},
     "output_type": "execute_result"
    }
   ],
   "source": [
    "arr[1][1]"
   ]
  },
  {
   "cell_type": "code",
   "execution_count": 136,
   "id": "e790d18c",
   "metadata": {},
   "outputs": [
    {
     "data": {
      "text/plain": [
       "4"
      ]
     },
     "execution_count": 136,
     "metadata": {},
     "output_type": "execute_result"
    }
   ],
   "source": [
    "arr[0][1][0]"
   ]
  },
  {
   "cell_type": "code",
   "execution_count": 137,
   "id": "282888f7",
   "metadata": {},
   "outputs": [
    {
     "data": {
      "text/plain": [
       "4"
      ]
     },
     "execution_count": 137,
     "metadata": {},
     "output_type": "execute_result"
    }
   ],
   "source": [
    "arr[0, 1, 0]"
   ]
  },
  {
   "cell_type": "code",
   "execution_count": 138,
   "id": "6f06157b",
   "metadata": {},
   "outputs": [
    {
     "data": {
      "text/plain": [
       "array([[[ 0,  2],\n",
       "        [ 4,  6],\n",
       "        [ 8, 10]],\n",
       "\n",
       "       [[12, 14],\n",
       "        [16, 18],\n",
       "        [20, 22]],\n",
       "\n",
       "       [[24, 26],\n",
       "        [28, 30],\n",
       "        [32, 34]]])"
      ]
     },
     "execution_count": 138,
     "metadata": {},
     "output_type": "execute_result"
    }
   ],
   "source": [
    "arr"
   ]
  },
  {
   "cell_type": "code",
   "execution_count": 139,
   "id": "5304eaf4",
   "metadata": {},
   "outputs": [
    {
     "data": {
      "text/plain": [
       "array([[24, 26],\n",
       "       [28, 30],\n",
       "       [32, 34]])"
      ]
     },
     "execution_count": 139,
     "metadata": {},
     "output_type": "execute_result"
    }
   ],
   "source": [
    "arr[-1]"
   ]
  },
  {
   "cell_type": "code",
   "execution_count": 140,
   "id": "3f6c7c3c",
   "metadata": {},
   "outputs": [
    {
     "data": {
      "text/plain": [
       "array([16, 18])"
      ]
     },
     "execution_count": 140,
     "metadata": {},
     "output_type": "execute_result"
    }
   ],
   "source": [
    "arr[-2 ,-2]"
   ]
  },
  {
   "cell_type": "markdown",
   "id": "6c419f72",
   "metadata": {},
   "source": [
    "### Slicing"
   ]
  },
  {
   "cell_type": "code",
   "execution_count": 143,
   "id": "3ea2211c",
   "metadata": {},
   "outputs": [
    {
     "data": {
      "text/plain": [
       "array([10, 11, 12, 13, 14, 15, 16, 17, 18, 19, 20, 21, 22, 23, 24, 25, 26,\n",
       "       27, 28, 29, 30, 31, 32, 33, 34])"
      ]
     },
     "execution_count": 143,
     "metadata": {},
     "output_type": "execute_result"
    }
   ],
   "source": [
    "arr = np.arange(10, 35)\n",
    "arr"
   ]
  },
  {
   "cell_type": "code",
   "execution_count": 144,
   "id": "93e5fd19",
   "metadata": {},
   "outputs": [
    {
     "data": {
      "text/plain": [
       "array([13, 14, 15, 16, 17])"
      ]
     },
     "execution_count": 144,
     "metadata": {},
     "output_type": "execute_result"
    }
   ],
   "source": [
    "arr[3:8]"
   ]
  },
  {
   "cell_type": "code",
   "execution_count": 146,
   "id": "1220c9c8",
   "metadata": {},
   "outputs": [
    {
     "data": {
      "text/plain": [
       "array([29, 30, 31, 32])"
      ]
     },
     "execution_count": 146,
     "metadata": {},
     "output_type": "execute_result"
    }
   ],
   "source": [
    "arr[-6:-2]"
   ]
  },
  {
   "cell_type": "code",
   "execution_count": 147,
   "id": "aded3ca6",
   "metadata": {},
   "outputs": [
    {
     "data": {
      "text/plain": [
       "25"
      ]
     },
     "execution_count": 147,
     "metadata": {},
     "output_type": "execute_result"
    }
   ],
   "source": [
    "len(arr)"
   ]
  },
  {
   "cell_type": "code",
   "execution_count": 148,
   "id": "5dab453a",
   "metadata": {},
   "outputs": [
    {
     "data": {
      "text/plain": [
       "array([[10, 11, 12, 13, 14],\n",
       "       [15, 16, 17, 18, 19],\n",
       "       [20, 21, 22, 23, 24],\n",
       "       [25, 26, 27, 28, 29],\n",
       "       [30, 31, 32, 33, 34]])"
      ]
     },
     "execution_count": 148,
     "metadata": {},
     "output_type": "execute_result"
    }
   ],
   "source": [
    "arr = arr.reshape(5, 5)\n",
    "arr"
   ]
  },
  {
   "cell_type": "code",
   "execution_count": 149,
   "id": "701e2124",
   "metadata": {},
   "outputs": [
    {
     "data": {
      "text/plain": [
       "array([[15, 16, 17, 18, 19],\n",
       "       [20, 21, 22, 23, 24]])"
      ]
     },
     "execution_count": 149,
     "metadata": {},
     "output_type": "execute_result"
    }
   ],
   "source": [
    "arr[1:3]"
   ]
  },
  {
   "cell_type": "code",
   "execution_count": 150,
   "id": "29c68340",
   "metadata": {},
   "outputs": [
    {
     "data": {
      "text/plain": [
       "array([[20, 21, 22, 23, 24]])"
      ]
     },
     "execution_count": 150,
     "metadata": {},
     "output_type": "execute_result"
    }
   ],
   "source": [
    "arr[1:3][1:3]"
   ]
  },
  {
   "cell_type": "code",
   "execution_count": 151,
   "id": "3b24f851",
   "metadata": {},
   "outputs": [
    {
     "data": {
      "text/plain": [
       "array([[16, 17],\n",
       "       [21, 22]])"
      ]
     },
     "execution_count": 151,
     "metadata": {},
     "output_type": "execute_result"
    }
   ],
   "source": [
    "arr[1:3, 1:3]"
   ]
  },
  {
   "cell_type": "code",
   "execution_count": 153,
   "id": "253226e4",
   "metadata": {},
   "outputs": [
    {
     "data": {
      "text/plain": [
       "array([[23, 24],\n",
       "       [28, 29],\n",
       "       [33, 34]])"
      ]
     },
     "execution_count": 153,
     "metadata": {},
     "output_type": "execute_result"
    }
   ],
   "source": [
    "arr[2:, 3:]"
   ]
  },
  {
   "cell_type": "markdown",
   "id": "f5d320b8",
   "metadata": {},
   "source": [
    "## Koşullu Filtreleme (Conditional Selection)"
   ]
  },
  {
   "cell_type": "code",
   "execution_count": 157,
   "id": "ef444542",
   "metadata": {},
   "outputs": [
    {
     "name": "stdout",
     "output_type": "stream",
     "text": [
      "[57 96 73 69 16 21 94 52 37 37 60 94 28 84 36 35 27 28 42 10  6 25 33 77\n",
      " 39 48 24 40 54 77 28 69 57 18 63 75 67 94 87  7 67 91 61 34 53 30 55 17\n",
      " 67  8]\n"
     ]
    }
   ],
   "source": [
    "np.random.seed(51)\n",
    "arr = np.random.randint(0, 100, size=50)\n",
    "print(arr)"
   ]
  },
  {
   "cell_type": "code",
   "execution_count": 160,
   "id": "507a7497",
   "metadata": {},
   "outputs": [
    {
     "name": "stdout",
     "output_type": "stream",
     "text": [
      "[ True  True  True  True False False  True  True False False  True  True\n",
      " False  True False False False False False False False False False  True\n",
      " False False False False  True  True False  True  True False  True  True\n",
      "  True  True  True False  True  True  True False  True False  True False\n",
      "  True False]\n"
     ]
    }
   ],
   "source": [
    "bool_arr = arr > 50   # boolean array\n",
    "print(bool_arr)"
   ]
  },
  {
   "cell_type": "code",
   "execution_count": 161,
   "id": "5c8bfb02",
   "metadata": {},
   "outputs": [
    {
     "data": {
      "text/plain": [
       "array([57, 96, 73, 69, 94, 52, 60, 94, 84, 77, 54, 77, 69, 57, 63, 75, 67,\n",
       "       94, 87, 67, 91, 61, 53, 55, 67])"
      ]
     },
     "execution_count": 161,
     "metadata": {},
     "output_type": "execute_result"
    }
   ],
   "source": [
    "arr[bool_arr]"
   ]
  },
  {
   "cell_type": "code",
   "execution_count": 162,
   "id": "a11c5522",
   "metadata": {},
   "outputs": [
    {
     "data": {
      "text/plain": [
       "array([57, 96, 73, 69, 94, 52, 60, 94, 84, 77, 54, 77, 69, 57, 63, 75, 67,\n",
       "       94, 87, 67, 91, 61, 53, 55, 67])"
      ]
     },
     "execution_count": 162,
     "metadata": {},
     "output_type": "execute_result"
    }
   ],
   "source": [
    "arr[ arr > 50 ]   # 50'den büyük olanları filtrele"
   ]
  },
  {
   "cell_type": "code",
   "execution_count": 163,
   "id": "1ae2bbaf",
   "metadata": {},
   "outputs": [],
   "source": [
    "# Bir örnek daha\n",
    "arr2 = np.array([1, 3, 4, 7, 8, 9])\n",
    "bool_arr2 = np.array([False, False, True, False, True, False])"
   ]
  },
  {
   "cell_type": "code",
   "execution_count": 164,
   "id": "88064b9c",
   "metadata": {},
   "outputs": [
    {
     "data": {
      "text/plain": [
       "6"
      ]
     },
     "execution_count": 164,
     "metadata": {},
     "output_type": "execute_result"
    }
   ],
   "source": [
    "len(arr2)"
   ]
  },
  {
   "cell_type": "code",
   "execution_count": 165,
   "id": "6f66771f",
   "metadata": {},
   "outputs": [
    {
     "data": {
      "text/plain": [
       "6"
      ]
     },
     "execution_count": 165,
     "metadata": {},
     "output_type": "execute_result"
    }
   ],
   "source": [
    "len(bool_arr2)"
   ]
  },
  {
   "cell_type": "code",
   "execution_count": 166,
   "id": "1510e9c3",
   "metadata": {},
   "outputs": [
    {
     "data": {
      "text/plain": [
       "array([4, 8])"
      ]
     },
     "execution_count": 166,
     "metadata": {},
     "output_type": "execute_result"
    }
   ],
   "source": [
    "arr2[bool_arr2]"
   ]
  },
  {
   "cell_type": "code",
   "execution_count": 167,
   "id": "14b54da2",
   "metadata": {},
   "outputs": [
    {
     "name": "stdout",
     "output_type": "stream",
     "text": [
      "[182 610 653 561 486 674 153 288 153 551 131 542 586 625 429 149 179 153\n",
      " 316 200 377 475 596 344 415 562 283 180 654 242 566 266 212 194 366 177\n",
      " 174 128 403 468 576 634 629 443 544 560 220 602 465 634 433 299 369 172\n",
      " 209 506 603 484 358 297 565 369 486 549 476 137 580 292 481 562 166 241\n",
      " 200 208 310 600 127 297 172 533 605 387 414 642 654 279 487 410 326 291\n",
      " 625 539 386 451 282 396 306 624 495 585]\n"
     ]
    }
   ],
   "source": [
    "# Bir örnek daha\n",
    "np.random.seed(51)\n",
    "arr3 = np.random.randint(125, 675, 100)\n",
    "print(arr3)"
   ]
  },
  {
   "cell_type": "code",
   "execution_count": 169,
   "id": "7abc02bc",
   "metadata": {},
   "outputs": [
    {
     "data": {
      "text/plain": [
       "array([288, 316, 377, 344, 283, 266, 366, 299, 369, 358, 297, 369, 292,\n",
       "       310, 297, 387, 279, 326, 291, 386, 282, 396, 306])"
      ]
     },
     "execution_count": 169,
     "metadata": {},
     "output_type": "execute_result"
    }
   ],
   "source": [
    "# 250'den büyük ve 400'den küçük sayıları filtreleyin\n",
    "arr3[(arr3 > 250) & (arr3 < 400)]"
   ]
  },
  {
   "cell_type": "markdown",
   "id": "d5f0de9c",
   "metadata": {},
   "source": [
    "#### 1 ile 100 (dahil) arasında rastgele seçilen 50 elemanı olan bir np.array oluşturun. Bu array'de 25'ten büyük sayıları filtreleyin ve bu sayıların toplamını söyleyin.  (seed=51)"
   ]
  },
  {
   "cell_type": "code",
   "execution_count": 170,
   "id": "d7bf36bd",
   "metadata": {},
   "outputs": [
    {
     "name": "stdout",
     "output_type": "stream",
     "text": [
      "[58 97 74 70 17 22 95 53 38 38 61 95 29 85 37 36 28 29 43 11  7 26 34 78\n",
      " 40 49 25 41 55 78 29 70 58 19 64 76 68 95 88  8 68 92 62 35 54 31 56 18\n",
      " 68  9]\n"
     ]
    }
   ],
   "source": [
    "np.random.seed(51)\n",
    "arr = np.random.randint(1, 101, size=50)\n",
    "print(arr)"
   ]
  },
  {
   "cell_type": "code",
   "execution_count": 171,
   "id": "518af9c5",
   "metadata": {},
   "outputs": [
    {
     "data": {
      "text/plain": [
       "array([58, 97, 74, 70, 95, 53, 38, 38, 61, 95, 29, 85, 37, 36, 28, 29, 43,\n",
       "       26, 34, 78, 40, 49, 41, 55, 78, 29, 70, 58, 64, 76, 68, 95, 88, 68,\n",
       "       92, 62, 35, 54, 31, 56, 68])"
      ]
     },
     "execution_count": 171,
     "metadata": {},
     "output_type": "execute_result"
    }
   ],
   "source": [
    "arr[arr > 25]"
   ]
  },
  {
   "cell_type": "code",
   "execution_count": 172,
   "id": "2b37132e",
   "metadata": {},
   "outputs": [
    {
     "data": {
      "text/plain": [
       "2381"
      ]
     },
     "execution_count": 172,
     "metadata": {},
     "output_type": "execute_result"
    }
   ],
   "source": [
    "sum(arr[arr > 25])  # python builtin sum function"
   ]
  },
  {
   "cell_type": "code",
   "execution_count": 173,
   "id": "e9bd59bb",
   "metadata": {},
   "outputs": [
    {
     "data": {
      "text/plain": [
       "2381"
      ]
     },
     "execution_count": 173,
     "metadata": {},
     "output_type": "execute_result"
    }
   ],
   "source": [
    "arr[arr > 25].sum() # numpy array sum methodu"
   ]
  },
  {
   "cell_type": "code",
   "execution_count": 174,
   "id": "ff02e2ac",
   "metadata": {},
   "outputs": [
    {
     "data": {
      "text/plain": [
       "58.073170731707314"
      ]
     },
     "execution_count": 174,
     "metadata": {},
     "output_type": "execute_result"
    }
   ],
   "source": [
    "arr[arr > 25].mean()"
   ]
  },
  {
   "cell_type": "code",
   "execution_count": 175,
   "id": "5be333ed",
   "metadata": {},
   "outputs": [
    {
     "data": {
      "text/plain": [
       "21.76413501321129"
      ]
     },
     "execution_count": 175,
     "metadata": {},
     "output_type": "execute_result"
    }
   ],
   "source": [
    "arr[arr > 25].std()"
   ]
  },
  {
   "cell_type": "code",
   "execution_count": 176,
   "id": "3a5cae9b",
   "metadata": {},
   "outputs": [
    {
     "data": {
      "text/plain": [
       "26"
      ]
     },
     "execution_count": 176,
     "metadata": {},
     "output_type": "execute_result"
    }
   ],
   "source": [
    "arr[arr > 25].min()"
   ]
  },
  {
   "cell_type": "code",
   "execution_count": 177,
   "id": "3cf2e829",
   "metadata": {},
   "outputs": [
    {
     "data": {
      "text/plain": [
       "97"
      ]
     },
     "execution_count": 177,
     "metadata": {},
     "output_type": "execute_result"
    }
   ],
   "source": [
    "arr[arr > 25].max()"
   ]
  },
  {
   "cell_type": "code",
   "execution_count": 178,
   "id": "2fd55972",
   "metadata": {},
   "outputs": [
    {
     "data": {
      "text/plain": [
       "473.6775728732897"
      ]
     },
     "execution_count": 178,
     "metadata": {},
     "output_type": "execute_result"
    }
   ],
   "source": [
    "arr[arr > 25].var()"
   ]
  },
  {
   "cell_type": "markdown",
   "id": "4fad9929",
   "metadata": {},
   "source": [
    "## NumPy Operations"
   ]
  },
  {
   "cell_type": "markdown",
   "id": "6b968b64",
   "metadata": {},
   "source": [
    "### Arithmetic Operations"
   ]
  },
  {
   "cell_type": "code",
   "execution_count": 179,
   "id": "4ae53742",
   "metadata": {},
   "outputs": [],
   "source": [
    "a = np.array([4, 5, 6])\n",
    "b = np.array([1, 2, 3])"
   ]
  },
  {
   "cell_type": "code",
   "execution_count": 180,
   "id": "f7daa7dc",
   "metadata": {},
   "outputs": [
    {
     "data": {
      "text/plain": [
       "array([5, 7, 9])"
      ]
     },
     "execution_count": 180,
     "metadata": {},
     "output_type": "execute_result"
    }
   ],
   "source": [
    "a + b"
   ]
  },
  {
   "cell_type": "code",
   "execution_count": 181,
   "id": "896704cd",
   "metadata": {},
   "outputs": [
    {
     "data": {
      "text/plain": [
       "array([3, 3, 3])"
      ]
     },
     "execution_count": 181,
     "metadata": {},
     "output_type": "execute_result"
    }
   ],
   "source": [
    "a - b"
   ]
  },
  {
   "cell_type": "code",
   "execution_count": 182,
   "id": "32ee6774",
   "metadata": {},
   "outputs": [
    {
     "data": {
      "text/plain": [
       "array([ 4, 10, 18])"
      ]
     },
     "execution_count": 182,
     "metadata": {},
     "output_type": "execute_result"
    }
   ],
   "source": [
    "a * b"
   ]
  },
  {
   "cell_type": "code",
   "execution_count": 183,
   "id": "6734406f",
   "metadata": {},
   "outputs": [
    {
     "data": {
      "text/plain": [
       "array([4. , 2.5, 2. ])"
      ]
     },
     "execution_count": 183,
     "metadata": {},
     "output_type": "execute_result"
    }
   ],
   "source": [
    "a / b"
   ]
  },
  {
   "cell_type": "code",
   "execution_count": 184,
   "id": "1b1514a5",
   "metadata": {},
   "outputs": [
    {
     "data": {
      "text/plain": [
       "array([  4,  25, 216])"
      ]
     },
     "execution_count": 184,
     "metadata": {},
     "output_type": "execute_result"
    }
   ],
   "source": [
    "a ** b"
   ]
  },
  {
   "cell_type": "code",
   "execution_count": 185,
   "id": "770e58c1",
   "metadata": {},
   "outputs": [
    {
     "data": {
      "text/plain": [
       "array([4, 2, 2])"
      ]
     },
     "execution_count": 185,
     "metadata": {},
     "output_type": "execute_result"
    }
   ],
   "source": [
    "a // b"
   ]
  },
  {
   "cell_type": "code",
   "execution_count": 186,
   "id": "739abc8d",
   "metadata": {},
   "outputs": [
    {
     "data": {
      "text/plain": [
       "array([0, 1, 0])"
      ]
     },
     "execution_count": 186,
     "metadata": {},
     "output_type": "execute_result"
    }
   ],
   "source": [
    "a % b"
   ]
  },
  {
   "cell_type": "code",
   "execution_count": 187,
   "id": "fec2894f",
   "metadata": {},
   "outputs": [
    {
     "data": {
      "text/plain": [
       "array([5, 7, 9])"
      ]
     },
     "execution_count": 187,
     "metadata": {},
     "output_type": "execute_result"
    }
   ],
   "source": [
    "np.add(a, b)   # a + b"
   ]
  },
  {
   "cell_type": "code",
   "execution_count": 188,
   "id": "90705c1c",
   "metadata": {},
   "outputs": [
    {
     "data": {
      "text/plain": [
       "array([3, 3, 3])"
      ]
     },
     "execution_count": 188,
     "metadata": {},
     "output_type": "execute_result"
    }
   ],
   "source": [
    "np.subtract(a, b)  # a - b"
   ]
  },
  {
   "cell_type": "code",
   "execution_count": 189,
   "id": "5372378b",
   "metadata": {},
   "outputs": [
    {
     "data": {
      "text/plain": [
       "array([ 4, 10, 18])"
      ]
     },
     "execution_count": 189,
     "metadata": {},
     "output_type": "execute_result"
    }
   ],
   "source": [
    "np.multiply(a, b)  # a * b"
   ]
  },
  {
   "cell_type": "code",
   "execution_count": 190,
   "id": "3315b762",
   "metadata": {},
   "outputs": [
    {
     "data": {
      "text/plain": [
       "array([4. , 2.5, 2. ])"
      ]
     },
     "execution_count": 190,
     "metadata": {},
     "output_type": "execute_result"
    }
   ],
   "source": [
    "np.divide(a, b)    # a / b"
   ]
  },
  {
   "cell_type": "code",
   "execution_count": 191,
   "id": "cdc5620e",
   "metadata": {},
   "outputs": [
    {
     "data": {
      "text/plain": [
       "array([  4,  25, 216])"
      ]
     },
     "execution_count": 191,
     "metadata": {},
     "output_type": "execute_result"
    }
   ],
   "source": [
    "np.power(a, b)    # a ** b"
   ]
  },
  {
   "cell_type": "code",
   "execution_count": 192,
   "id": "ad93f914",
   "metadata": {},
   "outputs": [
    {
     "data": {
      "text/plain": [
       "inf"
      ]
     },
     "execution_count": 192,
     "metadata": {},
     "output_type": "execute_result"
    }
   ],
   "source": [
    "np.inf   # sonsuz"
   ]
  },
  {
   "cell_type": "code",
   "execution_count": 193,
   "id": "e244fa58",
   "metadata": {},
   "outputs": [
    {
     "data": {
      "text/plain": [
       "3.141592653589793"
      ]
     },
     "execution_count": 193,
     "metadata": {},
     "output_type": "execute_result"
    }
   ],
   "source": [
    "np.pi    # pi sayısı"
   ]
  },
  {
   "cell_type": "markdown",
   "id": "e77788c1",
   "metadata": {},
   "source": [
    "### Statistical Operations"
   ]
  },
  {
   "cell_type": "code",
   "execution_count": 194,
   "id": "f583ed3d",
   "metadata": {},
   "outputs": [
    {
     "data": {
      "text/plain": [
       "array([58, 97, 74, 70, 17, 22, 95, 53, 38, 38, 61, 95, 29, 85, 37, 36, 28,\n",
       "       29, 43, 11,  7, 26, 34, 78, 40, 49, 25, 41, 55, 78, 29, 70, 58, 19,\n",
       "       64, 76, 68, 95, 88,  8, 68, 92, 62, 35, 54, 31, 56, 18, 68,  9])"
      ]
     },
     "execution_count": 194,
     "metadata": {},
     "output_type": "execute_result"
    }
   ],
   "source": [
    "arr"
   ]
  },
  {
   "cell_type": "code",
   "execution_count": 195,
   "id": "36ee0929",
   "metadata": {},
   "outputs": [],
   "source": [
    "# Array'i sıralama\n",
    "arr.sort()"
   ]
  },
  {
   "cell_type": "code",
   "execution_count": 196,
   "id": "d6ecb8bc",
   "metadata": {},
   "outputs": [
    {
     "data": {
      "text/plain": [
       "array([ 7,  8,  9, 11, 17, 18, 19, 22, 25, 26, 28, 29, 29, 29, 31, 34, 35,\n",
       "       36, 37, 38, 38, 40, 41, 43, 49, 53, 54, 55, 56, 58, 58, 61, 62, 64,\n",
       "       68, 68, 68, 70, 70, 74, 76, 78, 78, 85, 88, 92, 95, 95, 95, 97])"
      ]
     },
     "execution_count": 196,
     "metadata": {},
     "output_type": "execute_result"
    }
   ],
   "source": [
    "arr"
   ]
  },
  {
   "cell_type": "markdown",
   "id": "b2b5b9df",
   "metadata": {},
   "source": [
    "#### mean"
   ]
  },
  {
   "cell_type": "code",
   "execution_count": 197,
   "id": "13850de8",
   "metadata": {},
   "outputs": [
    {
     "data": {
      "text/plain": [
       "50.34"
      ]
     },
     "execution_count": 197,
     "metadata": {},
     "output_type": "execute_result"
    }
   ],
   "source": [
    "np.mean(arr)"
   ]
  },
  {
   "cell_type": "code",
   "execution_count": 198,
   "id": "e20b1478",
   "metadata": {},
   "outputs": [
    {
     "data": {
      "text/plain": [
       "50.34"
      ]
     },
     "execution_count": 198,
     "metadata": {},
     "output_type": "execute_result"
    }
   ],
   "source": [
    "arr.mean()"
   ]
  },
  {
   "cell_type": "markdown",
   "id": "444b76a5",
   "metadata": {},
   "source": [
    "#### median"
   ]
  },
  {
   "cell_type": "code",
   "execution_count": 199,
   "id": "0cb7c78a",
   "metadata": {},
   "outputs": [
    {
     "data": {
      "text/plain": [
       "51.0"
      ]
     },
     "execution_count": 199,
     "metadata": {},
     "output_type": "execute_result"
    }
   ],
   "source": [
    "np.median(arr)"
   ]
  },
  {
   "cell_type": "code",
   "execution_count": null,
   "id": "4968369d",
   "metadata": {},
   "outputs": [],
   "source": []
  },
  {
   "cell_type": "markdown",
   "id": "d932e3f2",
   "metadata": {},
   "source": [
    "#### std var"
   ]
  },
  {
   "cell_type": "code",
   "execution_count": 201,
   "id": "0d1d2acf",
   "metadata": {},
   "outputs": [
    {
     "data": {
      "text/plain": [
       "25.839976780175327"
      ]
     },
     "execution_count": 201,
     "metadata": {},
     "output_type": "execute_result"
    }
   ],
   "source": [
    "np.std(arr)"
   ]
  },
  {
   "cell_type": "code",
   "execution_count": 203,
   "id": "5608ddb3",
   "metadata": {},
   "outputs": [
    {
     "data": {
      "text/plain": [
       "25.839976780175327"
      ]
     },
     "execution_count": 203,
     "metadata": {},
     "output_type": "execute_result"
    }
   ],
   "source": [
    "arr.std()"
   ]
  },
  {
   "cell_type": "code",
   "execution_count": 204,
   "id": "a04b6c75",
   "metadata": {},
   "outputs": [
    {
     "data": {
      "text/plain": [
       "667.7044000000001"
      ]
     },
     "execution_count": 204,
     "metadata": {},
     "output_type": "execute_result"
    }
   ],
   "source": [
    "np.var(arr)"
   ]
  },
  {
   "cell_type": "code",
   "execution_count": 205,
   "id": "87e91e03",
   "metadata": {},
   "outputs": [
    {
     "data": {
      "text/plain": [
       "667.7044000000001"
      ]
     },
     "execution_count": 205,
     "metadata": {},
     "output_type": "execute_result"
    }
   ],
   "source": [
    "arr.var()"
   ]
  },
  {
   "cell_type": "markdown",
   "id": "468070e9",
   "metadata": {},
   "source": [
    "#### sum"
   ]
  },
  {
   "cell_type": "code",
   "execution_count": 206,
   "id": "3ad79168",
   "metadata": {},
   "outputs": [
    {
     "data": {
      "text/plain": [
       "2517"
      ]
     },
     "execution_count": 206,
     "metadata": {},
     "output_type": "execute_result"
    }
   ],
   "source": [
    "np.sum(arr)"
   ]
  },
  {
   "cell_type": "code",
   "execution_count": 207,
   "id": "f3f84ad9",
   "metadata": {},
   "outputs": [
    {
     "data": {
      "text/plain": [
       "2517"
      ]
     },
     "execution_count": 207,
     "metadata": {},
     "output_type": "execute_result"
    }
   ],
   "source": [
    "arr.sum()"
   ]
  },
  {
   "cell_type": "markdown",
   "id": "2856f8ba",
   "metadata": {},
   "source": [
    "#### min max"
   ]
  },
  {
   "cell_type": "code",
   "execution_count": 208,
   "id": "77127b1e",
   "metadata": {},
   "outputs": [
    {
     "data": {
      "text/plain": [
       "7"
      ]
     },
     "execution_count": 208,
     "metadata": {},
     "output_type": "execute_result"
    }
   ],
   "source": [
    "np.min(arr)"
   ]
  },
  {
   "cell_type": "code",
   "execution_count": 209,
   "id": "3bda914e",
   "metadata": {},
   "outputs": [
    {
     "data": {
      "text/plain": [
       "7"
      ]
     },
     "execution_count": 209,
     "metadata": {},
     "output_type": "execute_result"
    }
   ],
   "source": [
    "arr.min()"
   ]
  },
  {
   "cell_type": "code",
   "execution_count": 210,
   "id": "a22a3595",
   "metadata": {},
   "outputs": [
    {
     "data": {
      "text/plain": [
       "97"
      ]
     },
     "execution_count": 210,
     "metadata": {},
     "output_type": "execute_result"
    }
   ],
   "source": [
    "np.max(arr)"
   ]
  },
  {
   "cell_type": "code",
   "execution_count": 211,
   "id": "07b57ab5",
   "metadata": {},
   "outputs": [
    {
     "data": {
      "text/plain": [
       "97"
      ]
     },
     "execution_count": 211,
     "metadata": {},
     "output_type": "execute_result"
    }
   ],
   "source": [
    "arr.max()"
   ]
  },
  {
   "cell_type": "markdown",
   "id": "19df5f45",
   "metadata": {},
   "source": [
    "#### percentile"
   ]
  },
  {
   "cell_type": "code",
   "execution_count": 213,
   "id": "afccd0a3",
   "metadata": {},
   "outputs": [
    {
     "name": "stdout",
     "output_type": "stream",
     "text": [
      "[ 7  8  9 11 17 18 19 22 25 26 28 29 29 29 31 34 35 36 37 38 38 40 41 43\n",
      " 49 53 54 55 56 58 58 61 62 64 68 68 68 70 70 74 76 78 78 85 88 92 95 95\n",
      " 95 97]\n"
     ]
    }
   ],
   "source": [
    "print(arr)"
   ]
  },
  {
   "cell_type": "code",
   "execution_count": 212,
   "id": "b0459447",
   "metadata": {},
   "outputs": [
    {
     "data": {
      "text/plain": [
       "51.0"
      ]
     },
     "execution_count": 212,
     "metadata": {},
     "output_type": "execute_result"
    }
   ],
   "source": [
    "np.percentile(arr, 50)  # 50th percentile, Q2, median"
   ]
  },
  {
   "cell_type": "code",
   "execution_count": 215,
   "id": "661e522a",
   "metadata": {},
   "outputs": [
    {
     "data": {
      "text/plain": [
       "29.0"
      ]
     },
     "execution_count": 215,
     "metadata": {},
     "output_type": "execute_result"
    }
   ],
   "source": [
    "np.percentile(arr, 25)  # 25th percentile, Q1"
   ]
  },
  {
   "cell_type": "code",
   "execution_count": 216,
   "id": "016bfb51",
   "metadata": {},
   "outputs": [
    {
     "data": {
      "text/plain": [
       "69.5"
      ]
     },
     "execution_count": 216,
     "metadata": {},
     "output_type": "execute_result"
    }
   ],
   "source": [
    "np.percentile(arr, 75)  # 75th percentile, Q3"
   ]
  },
  {
   "cell_type": "markdown",
   "id": "58801a6e",
   "metadata": {},
   "source": [
    "## Correlation"
   ]
  },
  {
   "cell_type": "code",
   "execution_count": 217,
   "id": "e514b74f",
   "metadata": {},
   "outputs": [],
   "source": [
    "height = np.array([177, 192, 178, 158, 165, 168, 164, 161])\n",
    "weight = np.array([85, 95, 74, 65, 60, 52, 52, 63])"
   ]
  },
  {
   "cell_type": "code",
   "execution_count": 218,
   "id": "29db48b3",
   "metadata": {},
   "outputs": [
    {
     "data": {
      "text/plain": [
       "array([[1.        , 0.83138299],\n",
       "       [0.83138299, 1.        ]])"
      ]
     },
     "execution_count": 218,
     "metadata": {},
     "output_type": "execute_result"
    }
   ],
   "source": [
    "np.corrcoef(height, weight)"
   ]
  },
  {
   "cell_type": "code",
   "execution_count": null,
   "id": "fee5eb23",
   "metadata": {},
   "outputs": [],
   "source": []
  }
 ],
 "metadata": {
  "kernelspec": {
   "display_name": "Python 3 (ipykernel)",
   "language": "python",
   "name": "python3"
  },
  "language_info": {
   "codemirror_mode": {
    "name": "ipython",
    "version": 3
   },
   "file_extension": ".py",
   "mimetype": "text/x-python",
   "name": "python",
   "nbconvert_exporter": "python",
   "pygments_lexer": "ipython3",
   "version": "3.11.5"
  }
 },
 "nbformat": 4,
 "nbformat_minor": 5
}
